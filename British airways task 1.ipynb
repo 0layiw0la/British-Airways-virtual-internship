{
 "cells": [
  {
   "cell_type": "code",
   "execution_count": 1,
   "id": "e28cccb8",
   "metadata": {},
   "outputs": [],
   "source": []
  },
  {
   "cell_type": "code",
   "execution_count": null,
   "id": "ab1ffefe",
   "metadata": {},
   "outputs": [],
   "source": []
  },
  {
   "cell_type": "code",
   "execution_count": null,
   "id": "ae4feeb2",
   "metadata": {},
   "outputs": [],
   "source": []
  },
  {
   "cell_type": "code",
   "execution_count": null,
   "id": "b41b0759",
   "metadata": {},
   "outputs": [],
   "source": []
  },
  {
   "cell_type": "code",
   "execution_count": 34,
   "id": "8e80ece0",
   "metadata": {},
   "outputs": [
    {
     "name": "stdout",
     "output_type": "stream",
     "text": [
      "Scraping page 1\n",
      "   ---> 100 total reviews\n",
      "Scraping page 2\n",
      "   ---> 200 total reviews\n",
      "Scraping page 3\n",
      "   ---> 300 total reviews\n",
      "Scraping page 4\n",
      "   ---> 400 total reviews\n",
      "Scraping page 5\n",
      "   ---> 500 total reviews\n",
      "Scraping page 6\n",
      "   ---> 600 total reviews\n",
      "Scraping page 7\n",
      "   ---> 700 total reviews\n",
      "Scraping page 8\n",
      "   ---> 800 total reviews\n",
      "Scraping page 9\n",
      "   ---> 900 total reviews\n",
      "Scraping page 10\n",
      "   ---> 1000 total reviews\n",
      "Scraping page 11\n",
      "   ---> 1100 total reviews\n",
      "Scraping page 12\n",
      "   ---> 1200 total reviews\n",
      "Scraping page 13\n",
      "   ---> 1300 total reviews\n",
      "Scraping page 14\n",
      "   ---> 1400 total reviews\n",
      "Scraping page 15\n",
      "   ---> 1500 total reviews\n"
     ]
    }
   ],
   "source": [
    "import requests\n",
    "from bs4 import BeautifulSoup\n",
    "\n",
    "base_url = \"https://www.airlinequality.com/airline-reviews/british-airways\"\n",
    "pages = 15 \n",
    "page_size = 100 #How many reviews we intend to scrape per page\n",
    "reviews = [] #list to hold all our reviews\n",
    "\n",
    "\n",
    "max_retries = 7 #How many times we wan't our script to try scrape the data [ poor network problems :( ]\n",
    "\n",
    "for i in range(1, pages + 1):\n",
    "    print(f\"Currently scraping page {i}\") #Let's me know my script actually works and how far it's gone\n",
    "\n",
    "    # Create URL to collect links from paginated data\n",
    "    url = f\"{base_url}/page/{i}/?sortby=post_date%3ADesc&pagesize={page_size}\"\n",
    "\n",
    "    retries = 0  # Initialize the retry counter\n",
    "\n",
    "    while retries < max_retries: #retries till it has made 7 attempts\n",
    "        try:\n",
    "            \n",
    "            response = requests.get(url)\n",
    "\n",
    "            # Check if the response status code is 200 (OK)\n",
    "            if response.status_code == 200:\n",
    "        \n",
    "                content = response.content\n",
    "                soup = BeautifulSoup(content, 'html.parser') #Creating the soup that contains all our text\n",
    "\n",
    "                for para in soup.find_all(\"div\", {\"class\": \"text_content\"}):\n",
    "                    reviews.append(para.get_text()) #appends the reviews we find into a reviews list\n",
    "\n",
    "                print(f\"   ---> {len(reviews)} total reviews\") #tells me how many reviews i have so far\n",
    "                break  # Exit the retry loop if successful\n",
    "\n",
    "        except requests.exceptions.RequestException as e:\n",
    "            print(f\"Error retrieving page {i} - Retry {retries + 1}: {e}\")\n",
    "\n",
    "        # Increment the retry counter\n",
    "        retries += 1 #increases the number of tries\n",
    "\n",
    "    if retries == max_retries: #to let me know my network is terrible or the website has issues\n",
    "        print(f\"Failed to retrieve page {i} after {max_retries} retries.\") \n"
   ]
  },
  {
   "cell_type": "code",
   "execution_count": 41,
   "id": "408881b8",
   "metadata": {},
   "outputs": [
    {
     "data": {
      "text/html": [
       "<div>\n",
       "<style scoped>\n",
       "    .dataframe tbody tr th:only-of-type {\n",
       "        vertical-align: middle;\n",
       "    }\n",
       "\n",
       "    .dataframe tbody tr th {\n",
       "        vertical-align: top;\n",
       "    }\n",
       "\n",
       "    .dataframe thead th {\n",
       "        text-align: right;\n",
       "    }\n",
       "</style>\n",
       "<table border=\"1\" class=\"dataframe\">\n",
       "  <thead>\n",
       "    <tr style=\"text-align: right;\">\n",
       "      <th></th>\n",
       "      <th>Reviews</th>\n",
       "    </tr>\n",
       "  </thead>\n",
       "  <tbody>\n",
       "    <tr>\n",
       "      <th>0</th>\n",
       "      <td>✅ Trip Verified | First time flying British Ai...</td>\n",
       "    </tr>\n",
       "    <tr>\n",
       "      <th>1</th>\n",
       "      <td>Not Verified |  I flew London to Cairo and ret...</td>\n",
       "    </tr>\n",
       "    <tr>\n",
       "      <th>2</th>\n",
       "      <td>Not Verified |  Absolutely the worst experienc...</td>\n",
       "    </tr>\n",
       "    <tr>\n",
       "      <th>3</th>\n",
       "      <td>Not Verified |   Flew back from Malta after sc...</td>\n",
       "    </tr>\n",
       "    <tr>\n",
       "      <th>4</th>\n",
       "      <td>Not Verified | Cabin luggage had to go to carg...</td>\n",
       "    </tr>\n",
       "  </tbody>\n",
       "</table>\n",
       "</div>"
      ],
      "text/plain": [
       "                                             Reviews\n",
       "0  ✅ Trip Verified | First time flying British Ai...\n",
       "1  Not Verified |  I flew London to Cairo and ret...\n",
       "2  Not Verified |  Absolutely the worst experienc...\n",
       "3  Not Verified |   Flew back from Malta after sc...\n",
       "4  Not Verified | Cabin luggage had to go to carg..."
      ]
     },
     "execution_count": 41,
     "metadata": {},
     "output_type": "execute_result"
    }
   ],
   "source": [
    "import pandas as pd\n",
    "Rev_df = pd.DataFrame({'Reviews': reviews})\n",
    "Rev_df.head()"
   ]
  },
  {
   "cell_type": "code",
   "execution_count": 48,
   "id": "11b8dc06",
   "metadata": {},
   "outputs": [],
   "source": [
    "Rev_df['Reviews'] = Rev_df['Reviews'].str.split('|', expand=True)[1] #Splits the text in each row and selects the second split only"
   ]
  },
  {
   "cell_type": "code",
   "execution_count": 50,
   "id": "c32e9032",
   "metadata": {},
   "outputs": [
    {
     "data": {
      "text/html": [
       "<div>\n",
       "<style scoped>\n",
       "    .dataframe tbody tr th:only-of-type {\n",
       "        vertical-align: middle;\n",
       "    }\n",
       "\n",
       "    .dataframe tbody tr th {\n",
       "        vertical-align: top;\n",
       "    }\n",
       "\n",
       "    .dataframe thead th {\n",
       "        text-align: right;\n",
       "    }\n",
       "</style>\n",
       "<table border=\"1\" class=\"dataframe\">\n",
       "  <thead>\n",
       "    <tr style=\"text-align: right;\">\n",
       "      <th></th>\n",
       "      <th>Reviews</th>\n",
       "    </tr>\n",
       "  </thead>\n",
       "  <tbody>\n",
       "    <tr>\n",
       "      <th>0</th>\n",
       "      <td>First time flying British Airways and I would...</td>\n",
       "    </tr>\n",
       "    <tr>\n",
       "      <th>1</th>\n",
       "      <td>I flew London to Cairo and return in October...</td>\n",
       "    </tr>\n",
       "    <tr>\n",
       "      <th>2</th>\n",
       "      <td>Absolutely the worst experience ever.  Flew ...</td>\n",
       "    </tr>\n",
       "    <tr>\n",
       "      <th>3</th>\n",
       "      <td>Flew back from Malta after scattering our s...</td>\n",
       "    </tr>\n",
       "    <tr>\n",
       "      <th>4</th>\n",
       "      <td>Cabin luggage had to go to cargo, even when I...</td>\n",
       "    </tr>\n",
       "  </tbody>\n",
       "</table>\n",
       "</div>"
      ],
      "text/plain": [
       "                                             Reviews\n",
       "0   First time flying British Airways and I would...\n",
       "1    I flew London to Cairo and return in October...\n",
       "2    Absolutely the worst experience ever.  Flew ...\n",
       "3     Flew back from Malta after scattering our s...\n",
       "4   Cabin luggage had to go to cargo, even when I..."
      ]
     },
     "execution_count": 50,
     "metadata": {},
     "output_type": "execute_result"
    }
   ],
   "source": [
    "Rev_df.head()"
   ]
  },
  {
   "cell_type": "code",
   "execution_count": null,
   "id": "d1ea442e",
   "metadata": {},
   "outputs": [],
   "source": []
  }
 ],
 "metadata": {
  "kernelspec": {
   "display_name": "Python 3 (ipykernel)",
   "language": "python",
   "name": "python3"
  },
  "language_info": {
   "codemirror_mode": {
    "name": "ipython",
    "version": 3
   },
   "file_extension": ".py",
   "mimetype": "text/x-python",
   "name": "python",
   "nbconvert_exporter": "python",
   "pygments_lexer": "ipython3",
   "version": "3.10.13"
  }
 },
 "nbformat": 4,
 "nbformat_minor": 5
}
